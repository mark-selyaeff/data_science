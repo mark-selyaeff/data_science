{
 "cells": [
  {
   "cell_type": "code",
   "execution_count": 1,
   "metadata": {
    "collapsed": true
   },
   "outputs": [],
   "source": [
    "with open('text.txt') as f:\n",
    "    content = f.readlines()"
   ]
  },
  {
   "cell_type": "code",
   "execution_count": 5,
   "metadata": {},
   "outputs": [],
   "source": [
    "content = map((str.strip), content)"
   ]
  },
  {
   "cell_type": "code",
   "execution_count": 8,
   "metadata": {},
   "outputs": [],
   "source": [
    "content = list(content)"
   ]
  },
  {
   "cell_type": "code",
   "execution_count": 11,
   "metadata": {},
   "outputs": [],
   "source": [
    "with open('text.txt') as f:\n",
    "    content = f.readlines()"
   ]
  },
  {
   "cell_type": "code",
   "execution_count": 13,
   "metadata": {},
   "outputs": [],
   "source": [
    "content = [x.strip() for x in content]"
   ]
  },
  {
   "cell_type": "code",
   "execution_count": 17,
   "metadata": {},
   "outputs": [],
   "source": [
    "content = [x.lower() for x in content]"
   ]
  },
  {
   "cell_type": "code",
   "execution_count": 28,
   "metadata": {
    "scrolled": false
   },
   "outputs": [],
   "source": [
    "content_token = [re.split('[^a-z]', x) for x in content]"
   ]
  },
  {
   "cell_type": "code",
   "execution_count": 31,
   "metadata": {},
   "outputs": [],
   "source": [
    "for article in content_token:\n",
    "    for idx, val in enumerate(article):\n",
    "        if val == '':\n",
    "            article.pop(idx)"
   ]
  },
  {
   "cell_type": "code",
   "execution_count": 32,
   "metadata": {},
   "outputs": [
    {
     "data": {
      "text/plain": [
       "[['in',\n",
       "  'comparison',\n",
       "  'to',\n",
       "  'dogs',\n",
       "  'cats',\n",
       "  'have',\n",
       "  'not',\n",
       "  'undergone',\n",
       "  'major',\n",
       "  'changes',\n",
       "  'during',\n",
       "  'the',\n",
       "  'domestication',\n",
       "  'process'],\n",
       " ['as',\n",
       "  'cat',\n",
       "  'simply',\n",
       "  'catenates',\n",
       "  'streams',\n",
       "  'of',\n",
       "  'bytes',\n",
       "  'it',\n",
       "  'can',\n",
       "  'be',\n",
       "  'also',\n",
       "  'used',\n",
       "  'to',\n",
       "  'concatenate',\n",
       "  'binary',\n",
       "  'files',\n",
       "  'where',\n",
       "  'it',\n",
       "  'will',\n",
       "  'just',\n",
       "  'concatenate',\n",
       "  'sequence',\n",
       "  'of',\n",
       "  'bytes']]"
      ]
     },
     "execution_count": 32,
     "metadata": {},
     "output_type": "execute_result"
    }
   ],
   "source": [
    "content_token[:2]"
   ]
  },
  {
   "cell_type": "code",
   "execution_count": 34,
   "metadata": {
    "collapsed": true
   },
   "outputs": [],
   "source": [
    "from collections import defaultdict"
   ]
  },
  {
   "cell_type": "code",
   "execution_count": 35,
   "metadata": {
    "collapsed": true
   },
   "outputs": [],
   "source": [
    "dict_content = defaultdict(int)"
   ]
  },
  {
   "cell_type": "code",
   "execution_count": 38,
   "metadata": {},
   "outputs": [],
   "source": [
    "for article in content_token:\n",
    "    for word in article:\n",
    "        dict_content[word] += 1"
   ]
  },
  {
   "cell_type": "code",
   "execution_count": 41,
   "metadata": {},
   "outputs": [
    {
     "data": {
      "text/plain": [
       "defaultdict(int,\n",
       "            {'a': 13,\n",
       "             'according': 1,\n",
       "             'adjacent': 1,\n",
       "             'allow': 1,\n",
       "             'allows': 1,\n",
       "             'also': 2,\n",
       "             'an': 2,\n",
       "             'ancestor': 1,\n",
       "             'and': 14,\n",
       "             'animals': 1,\n",
       "             'any': 1,\n",
       "             'app': 1,\n",
       "             'apple': 8,\n",
       "             'are': 2,\n",
       "             'arguments': 1,\n",
       "             'artificial': 1,\n",
       "             'as': 6,\n",
       "             'available': 1,\n",
       "             'based': 1,\n",
       "             'basic': 1,\n",
       "             'be': 3,\n",
       "             'between': 1,\n",
       "             'binary': 1,\n",
       "             'both': 1,\n",
       "             'by': 3,\n",
       "             'bytes': 2,\n",
       "             'can': 3,\n",
       "             'cat': 10,\n",
       "             'catenates': 1,\n",
       "             'cats': 4,\n",
       "             'changes': 2,\n",
       "             'chromosomes': 1,\n",
       "             'clear': 1,\n",
       "             'closest': 1,\n",
       "             'command': 3,\n",
       "             'commands': 2,\n",
       "             'common': 1,\n",
       "             'community': 1,\n",
       "             'comparison': 1,\n",
       "             'computers': 3,\n",
       "             'concatenate': 2,\n",
       "             'concern': 1,\n",
       "             'connected': 1,\n",
       "             'contains': 2,\n",
       "             'content': 2,\n",
       "             'count': 1,\n",
       "             'create': 1,\n",
       "             'default': 1,\n",
       "             'delete': 1,\n",
       "             'deliberately': 1,\n",
       "             'developed': 1,\n",
       "             'diploid': 1,\n",
       "             'disk': 1,\n",
       "             'displays': 1,\n",
       "             'dogs': 1,\n",
       "             'domestic': 1,\n",
       "             'domesticated': 1,\n",
       "             'domestication': 1,\n",
       "             'download': 1,\n",
       "             'drive': 1,\n",
       "             'during': 1,\n",
       "             'ears': 1,\n",
       "             'editions': 1,\n",
       "             'enhancements': 1,\n",
       "             'entirely': 1,\n",
       "             'error': 1,\n",
       "             'every': 1,\n",
       "             'external': 1,\n",
       "             'factory': 1,\n",
       "             'faint': 1,\n",
       "             'features': 1,\n",
       "             'felis': 1,\n",
       "             'fifth': 1,\n",
       "             'file': 5,\n",
       "             'files': 1,\n",
       "             'firmware': 1,\n",
       "             'flow': 1,\n",
       "             'for': 4,\n",
       "             'frequency': 1,\n",
       "             'from': 1,\n",
       "             'genes': 1,\n",
       "             'genus': 1,\n",
       "             'has': 4,\n",
       "             'have': 2,\n",
       "             'hear': 1,\n",
       "             'high': 1,\n",
       "             'however': 1,\n",
       "             'human': 2,\n",
       "             'if': 1,\n",
       "             'in': 11,\n",
       "             'incremental': 1,\n",
       "             'information': 1,\n",
       "             'installation': 2,\n",
       "             'installed': 2,\n",
       "             'installs': 1,\n",
       "             'instead': 1,\n",
       "             'intel': 1,\n",
       "             'interactive': 1,\n",
       "             'is': 7,\n",
       "             'it': 4,\n",
       "             'its': 2,\n",
       "             'july': 1,\n",
       "             'just': 3,\n",
       "             'keyboards': 1,\n",
       "             'kg': 1,\n",
       "             'later': 1,\n",
       "             'lb': 1,\n",
       "             'learned': 1,\n",
       "             'left': 1,\n",
       "             'legibility': 1,\n",
       "             'leopard': 4,\n",
       "             'lines': 1,\n",
       "             'linux': 1,\n",
       "             'lion': 4,\n",
       "             'longer': 1,\n",
       "             'mac': 6,\n",
       "             'made': 1,\n",
       "             'major': 2,\n",
       "             'marks': 1,\n",
       "             'mavericks': 1,\n",
       "             'may': 1,\n",
       "             'members': 1,\n",
       "             'mice': 1,\n",
       "             'mid': 1,\n",
       "             'more': 1,\n",
       "             'most': 1,\n",
       "             'mountain': 5,\n",
       "             'moved': 1,\n",
       "             'named': 1,\n",
       "             'need': 1,\n",
       "             'needing': 1,\n",
       "             'new': 2,\n",
       "             'no': 1,\n",
       "             'non': 1,\n",
       "             'not': 1,\n",
       "             'now': 1,\n",
       "             'october': 1,\n",
       "             'of': 19,\n",
       "             'off': 1,\n",
       "             'offered': 1,\n",
       "             'often': 1,\n",
       "             'on': 5,\n",
       "             'one': 4,\n",
       "             'online': 1,\n",
       "             'or': 3,\n",
       "             'organisms': 1,\n",
       "             'os': 8,\n",
       "             'osx': 1,\n",
       "             'other': 2,\n",
       "             'output': 3,\n",
       "             'over': 2,\n",
       "             'part': 1,\n",
       "             'patch': 1,\n",
       "             'people': 1,\n",
       "             'permanently': 1,\n",
       "             'piped': 1,\n",
       "             'pipes': 1,\n",
       "             'place': 1,\n",
       "             'possess': 1,\n",
       "             'predators': 1,\n",
       "             'predecessor': 1,\n",
       "             'process': 2,\n",
       "             'processors': 1,\n",
       "             'purchase': 1,\n",
       "             'rather': 1,\n",
       "             'read': 1,\n",
       "             'received': 1,\n",
       "             'receives': 1,\n",
       "             'recent': 1,\n",
       "             'redirected': 2,\n",
       "             'redirection': 2,\n",
       "             'release': 1,\n",
       "             'released': 3,\n",
       "             'releases': 1,\n",
       "             'releasing': 2,\n",
       "             'right': 1,\n",
       "             'roughly': 1,\n",
       "             'run': 1,\n",
       "             'running': 1,\n",
       "             's': 2,\n",
       "             'safari': 1,\n",
       "             'safer': 1,\n",
       "             'sdf': 0,\n",
       "             'second': 1,\n",
       "             'selection': 1,\n",
       "             'separate': 1,\n",
       "             'sequence': 2,\n",
       "             'similar': 1,\n",
       "             'simply': 2,\n",
       "             'since': 1,\n",
       "             'single': 1,\n",
       "             'size': 1,\n",
       "             'small': 2,\n",
       "             'so': 1,\n",
       "             'some': 1,\n",
       "             'sounds': 1,\n",
       "             'standard': 1,\n",
       "             'started': 1,\n",
       "             'starting': 1,\n",
       "             'stdin': 2,\n",
       "             'stdout': 1,\n",
       "             'store': 1,\n",
       "             'streams': 1,\n",
       "             'successor': 1,\n",
       "             'such': 2,\n",
       "             'switch': 1,\n",
       "             'symbol': 1,\n",
       "             'symbols': 1,\n",
       "             't': 1,\n",
       "             'tamed': 1,\n",
       "             'terms': 1,\n",
       "             'than': 2,\n",
       "             'that': 2,\n",
       "             'the': 20,\n",
       "             'their': 1,\n",
       "             'they': 1,\n",
       "             'those': 1,\n",
       "             'three': 1,\n",
       "             'through': 1,\n",
       "             'tiger': 3,\n",
       "             'time': 1,\n",
       "             'to': 14,\n",
       "             'too': 2,\n",
       "             'two': 1,\n",
       "             'type': 1,\n",
       "             'typically': 1,\n",
       "             'undergone': 1,\n",
       "             'unix': 1,\n",
       "             'unnecessary': 1,\n",
       "             'update': 1,\n",
       "             'upgrade': 1,\n",
       "             'use': 2,\n",
       "             'used': 1,\n",
       "             'useful': 1,\n",
       "             'using': 3,\n",
       "             'vermin': 1,\n",
       "             'version': 1,\n",
       "             'versions': 2,\n",
       "             'was': 2,\n",
       "             'weighing': 1,\n",
       "             'were': 2,\n",
       "             'when': 2,\n",
       "             'where': 2,\n",
       "             'which': 1,\n",
       "             'wild': 1,\n",
       "             'will': 2,\n",
       "             'with': 2,\n",
       "             'without': 1,\n",
       "             'won': 1,\n",
       "             'world': 1,\n",
       "             'wrong': 1,\n",
       "             'x': 9,\n",
       "             'year': 1,\n",
       "             'yosemite': 1,\n",
       "             'you': 5})"
      ]
     },
     "execution_count": 41,
     "metadata": {},
     "output_type": "execute_result"
    }
   ],
   "source": [
    "dict_content"
   ]
  },
  {
   "cell_type": "code",
   "execution_count": 45,
   "metadata": {},
   "outputs": [
    {
     "data": {
      "text/plain": [
       "254"
      ]
     },
     "execution_count": 45,
     "metadata": {},
     "output_type": "execute_result"
    }
   ],
   "source": [
    "len(dict_content.keys())"
   ]
  },
  {
   "cell_type": "code",
   "execution_count": 47,
   "metadata": {},
   "outputs": [],
   "source": [
    "import numpy as np"
   ]
  },
  {
   "cell_type": "code",
   "execution_count": 48,
   "metadata": {
    "collapsed": true
   },
   "outputs": [],
   "source": [
    "matrix = np.zeros((22, len(dict_content.keys())), dtype=np.int)"
   ]
  },
  {
   "cell_type": "code",
   "execution_count": null,
   "metadata": {
    "collapsed": true
   },
   "outputs": [],
   "source": []
  },
  {
   "cell_type": "code",
   "execution_count": 94,
   "metadata": {},
   "outputs": [],
   "source": [
    "for idx, key in enumerate(list(dict_content.keys())):\n",
    "    for index, article in enumerate(content_token):\n",
    "        matrix[index, idx] = article.count(key)"
   ]
  },
  {
   "cell_type": "code",
   "execution_count": 101,
   "metadata": {},
   "outputs": [
    {
     "data": {
      "text/plain": [
       "(22, 254)"
      ]
     },
     "execution_count": 101,
     "metadata": {},
     "output_type": "execute_result"
    }
   ],
   "source": [
    "matrix.shape"
   ]
  },
  {
   "cell_type": "code",
   "execution_count": 102,
   "metadata": {
    "collapsed": true
   },
   "outputs": [],
   "source": [
    "from scipy.spatial.distance import cosine as cosine"
   ]
  },
  {
   "cell_type": "code",
   "execution_count": 104,
   "metadata": {},
   "outputs": [
    {
     "data": {
      "text/plain": [
       "0.95275444087384664"
      ]
     },
     "execution_count": 104,
     "metadata": {},
     "output_type": "execute_result"
    }
   ],
   "source": [
    "cosine(matrix[1], matrix[0])"
   ]
  },
  {
   "cell_type": "code",
   "execution_count": 109,
   "metadata": {},
   "outputs": [],
   "source": [
    "cos_distances = [cosine(matrix[0], matrix[i]) for i, val in enumerate(matrix)]"
   ]
  },
  {
   "cell_type": "code",
   "execution_count": 118,
   "metadata": {},
   "outputs": [],
   "source": [
    "x = [(idx, val) for idx, val in (enumerate(cos_distances))]"
   ]
  },
  {
   "cell_type": "code",
   "execution_count": 121,
   "metadata": {},
   "outputs": [],
   "source": [
    "x.sort(key=lambda elem: elem[1])"
   ]
  },
  {
   "cell_type": "code",
   "execution_count": 122,
   "metadata": {},
   "outputs": [
    {
     "data": {
      "text/plain": [
       "[(0, 0.0),\n",
       " (6, 0.7327387580875756),\n",
       " (4, 0.77708871496985887),\n",
       " (21, 0.82503644694405864),\n",
       " (10, 0.83281653622739416),\n",
       " (12, 0.83964325485254543),\n",
       " (20, 0.83964325485254543),\n",
       " (16, 0.84063618542208085),\n",
       " (2, 0.86447381456421235),\n",
       " (13, 0.87035925528956715),\n",
       " (14, 0.87401184233025764),\n",
       " (11, 0.88047713906656067),\n",
       " (8, 0.88427248752843102),\n",
       " (19, 0.88854435748492944),\n",
       " (3, 0.89517151632780823),\n",
       " (9, 0.90550888174769317),\n",
       " (7, 0.92587506833388988),\n",
       " (5, 0.94023856953328033),\n",
       " (15, 0.94427217874246472),\n",
       " (18, 0.94427217874246472),\n",
       " (1, 0.95275444087384664),\n",
       " (17, 0.95664450152379399)]"
      ]
     },
     "execution_count": 122,
     "metadata": {},
     "output_type": "execute_result"
    }
   ],
   "source": [
    "x"
   ]
  },
  {
   "cell_type": "markdown",
   "metadata": {},
   "source": [
    "# 4, 6 - самые похожие предложения"
   ]
  },
  {
   "cell_type": "code",
   "execution_count": 113,
   "metadata": {},
   "outputs": [
    {
     "name": "stdout",
     "output_type": "stream",
     "text": [
      "0.952754440874 0.956644501524\n"
     ]
    }
   ],
   "source": [
    "print(cos_distances[1], cos_distances[17])"
   ]
  },
  {
   "cell_type": "code",
   "execution_count": null,
   "metadata": {
    "collapsed": true
   },
   "outputs": [],
   "source": []
  }
 ],
 "metadata": {
  "kernelspec": {
   "display_name": "Python 3",
   "language": "python",
   "name": "python3"
  },
  "language_info": {
   "codemirror_mode": {
    "name": "ipython",
    "version": 3
   },
   "file_extension": ".py",
   "mimetype": "text/x-python",
   "name": "python",
   "nbconvert_exporter": "python",
   "pygments_lexer": "ipython3",
   "version": "3.6.1"
  }
 },
 "nbformat": 4,
 "nbformat_minor": 2
}
